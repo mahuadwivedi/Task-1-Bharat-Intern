{
 "cells": [
  {
   "cell_type": "markdown",
   "id": "9074df56",
   "metadata": {},
   "source": [
    "# Predicting Stock price of Tata Motors using LSTM for year 2017"
   ]
  },
  {
   "cell_type": "markdown",
   "id": "e726ce14",
   "metadata": {},
   "source": [
    "### Importing libraries and dataset"
   ]
  },
  {
   "cell_type": "code",
   "execution_count": 1,
   "id": "41303162",
   "metadata": {},
   "outputs": [],
   "source": [
    "import pandas as pd\n",
    "import numpy as np\n",
    "import matplotlib.pyplot as plt\n",
    "import datetime\n",
    "from sklearn.preprocessing import MinMaxScaler\n",
    "import math\n",
    "from sklearn.metrics import mean_squared_error\n",
    "from keras.models import Sequential\n",
    "from keras.layers import Dense,LSTM,Dropout\n",
    "import pandas_datareader as web"
   ]
  },
  {
   "cell_type": "code",
   "execution_count": 2,
   "id": "0dc50ea4",
   "metadata": {},
   "outputs": [],
   "source": [
    "dataset = pd.read_csv(r'C:\\Users\\hp\\Downloads\\TATAMOTORS_2011.csv')"
   ]
  },
  {
   "cell_type": "code",
   "execution_count": 3,
   "id": "aa6e1453",
   "metadata": {},
   "outputs": [
    {
     "data": {
      "text/html": [
       "<div>\n",
       "<style scoped>\n",
       "    .dataframe tbody tr th:only-of-type {\n",
       "        vertical-align: middle;\n",
       "    }\n",
       "\n",
       "    .dataframe tbody tr th {\n",
       "        vertical-align: top;\n",
       "    }\n",
       "\n",
       "    .dataframe thead th {\n",
       "        text-align: right;\n",
       "    }\n",
       "</style>\n",
       "<table border=\"1\" class=\"dataframe\">\n",
       "  <thead>\n",
       "    <tr style=\"text-align: right;\">\n",
       "      <th></th>\n",
       "      <th>Date</th>\n",
       "      <th>Open</th>\n",
       "      <th>High</th>\n",
       "      <th>Low</th>\n",
       "      <th>Last</th>\n",
       "      <th>Close</th>\n",
       "      <th>Volume</th>\n",
       "    </tr>\n",
       "  </thead>\n",
       "  <tbody>\n",
       "    <tr>\n",
       "      <th>0</th>\n",
       "      <td>2011-01-03</td>\n",
       "      <td>1327.7</td>\n",
       "      <td>1335.00</td>\n",
       "      <td>1301.20</td>\n",
       "      <td>1305.00</td>\n",
       "      <td>1308.45</td>\n",
       "      <td>1678140</td>\n",
       "    </tr>\n",
       "    <tr>\n",
       "      <th>1</th>\n",
       "      <td>2011-01-04</td>\n",
       "      <td>1313.9</td>\n",
       "      <td>1320.60</td>\n",
       "      <td>1285.05</td>\n",
       "      <td>1296.00</td>\n",
       "      <td>1298.40</td>\n",
       "      <td>2333384</td>\n",
       "    </tr>\n",
       "    <tr>\n",
       "      <th>2</th>\n",
       "      <td>2011-01-05</td>\n",
       "      <td>1300.0</td>\n",
       "      <td>1309.90</td>\n",
       "      <td>1276.00</td>\n",
       "      <td>1277.30</td>\n",
       "      <td>1282.80</td>\n",
       "      <td>1576151</td>\n",
       "    </tr>\n",
       "    <tr>\n",
       "      <th>3</th>\n",
       "      <td>2011-01-06</td>\n",
       "      <td>1289.2</td>\n",
       "      <td>1300.90</td>\n",
       "      <td>1248.35</td>\n",
       "      <td>1263.50</td>\n",
       "      <td>1261.00</td>\n",
       "      <td>2182701</td>\n",
       "    </tr>\n",
       "    <tr>\n",
       "      <th>4</th>\n",
       "      <td>2011-01-07</td>\n",
       "      <td>1260.0</td>\n",
       "      <td>1263.35</td>\n",
       "      <td>1160.00</td>\n",
       "      <td>1182.00</td>\n",
       "      <td>1190.20</td>\n",
       "      <td>4318326</td>\n",
       "    </tr>\n",
       "    <tr>\n",
       "      <th>...</th>\n",
       "      <td>...</td>\n",
       "      <td>...</td>\n",
       "      <td>...</td>\n",
       "      <td>...</td>\n",
       "      <td>...</td>\n",
       "      <td>...</td>\n",
       "      <td>...</td>\n",
       "    </tr>\n",
       "    <tr>\n",
       "      <th>242</th>\n",
       "      <td>2011-12-26</td>\n",
       "      <td>186.0</td>\n",
       "      <td>188.65</td>\n",
       "      <td>185.10</td>\n",
       "      <td>186.30</td>\n",
       "      <td>186.75</td>\n",
       "      <td>7097843</td>\n",
       "    </tr>\n",
       "    <tr>\n",
       "      <th>243</th>\n",
       "      <td>2011-12-27</td>\n",
       "      <td>186.0</td>\n",
       "      <td>186.40</td>\n",
       "      <td>180.85</td>\n",
       "      <td>182.35</td>\n",
       "      <td>182.10</td>\n",
       "      <td>6199700</td>\n",
       "    </tr>\n",
       "    <tr>\n",
       "      <th>244</th>\n",
       "      <td>2011-12-28</td>\n",
       "      <td>181.0</td>\n",
       "      <td>183.50</td>\n",
       "      <td>178.85</td>\n",
       "      <td>179.60</td>\n",
       "      <td>180.20</td>\n",
       "      <td>8777190</td>\n",
       "    </tr>\n",
       "    <tr>\n",
       "      <th>245</th>\n",
       "      <td>2011-12-29</td>\n",
       "      <td>178.4</td>\n",
       "      <td>182.50</td>\n",
       "      <td>178.10</td>\n",
       "      <td>178.95</td>\n",
       "      <td>179.15</td>\n",
       "      <td>9982150</td>\n",
       "    </tr>\n",
       "    <tr>\n",
       "      <th>246</th>\n",
       "      <td>2011-12-30</td>\n",
       "      <td>180.5</td>\n",
       "      <td>183.80</td>\n",
       "      <td>176.80</td>\n",
       "      <td>178.35</td>\n",
       "      <td>178.70</td>\n",
       "      <td>9288032</td>\n",
       "    </tr>\n",
       "  </tbody>\n",
       "</table>\n",
       "<p>247 rows × 7 columns</p>\n",
       "</div>"
      ],
      "text/plain": [
       "           Date    Open     High      Low     Last    Close   Volume\n",
       "0    2011-01-03  1327.7  1335.00  1301.20  1305.00  1308.45  1678140\n",
       "1    2011-01-04  1313.9  1320.60  1285.05  1296.00  1298.40  2333384\n",
       "2    2011-01-05  1300.0  1309.90  1276.00  1277.30  1282.80  1576151\n",
       "3    2011-01-06  1289.2  1300.90  1248.35  1263.50  1261.00  2182701\n",
       "4    2011-01-07  1260.0  1263.35  1160.00  1182.00  1190.20  4318326\n",
       "..          ...     ...      ...      ...      ...      ...      ...\n",
       "242  2011-12-26   186.0   188.65   185.10   186.30   186.75  7097843\n",
       "243  2011-12-27   186.0   186.40   180.85   182.35   182.10  6199700\n",
       "244  2011-12-28   181.0   183.50   178.85   179.60   180.20  8777190\n",
       "245  2011-12-29   178.4   182.50   178.10   178.95   179.15  9982150\n",
       "246  2011-12-30   180.5   183.80   176.80   178.35   178.70  9288032\n",
       "\n",
       "[247 rows x 7 columns]"
      ]
     },
     "execution_count": 3,
     "metadata": {},
     "output_type": "execute_result"
    }
   ],
   "source": [
    "dataset"
   ]
  },
  {
   "cell_type": "code",
   "execution_count": 4,
   "id": "4ff7d74d",
   "metadata": {},
   "outputs": [
    {
     "data": {
      "text/html": [
       "<div>\n",
       "<style scoped>\n",
       "    .dataframe tbody tr th:only-of-type {\n",
       "        vertical-align: middle;\n",
       "    }\n",
       "\n",
       "    .dataframe tbody tr th {\n",
       "        vertical-align: top;\n",
       "    }\n",
       "\n",
       "    .dataframe thead th {\n",
       "        text-align: right;\n",
       "    }\n",
       "</style>\n",
       "<table border=\"1\" class=\"dataframe\">\n",
       "  <thead>\n",
       "    <tr style=\"text-align: right;\">\n",
       "      <th></th>\n",
       "      <th>Date</th>\n",
       "      <th>Open</th>\n",
       "      <th>High</th>\n",
       "      <th>Low</th>\n",
       "      <th>Last</th>\n",
       "      <th>Close</th>\n",
       "      <th>Volume</th>\n",
       "    </tr>\n",
       "  </thead>\n",
       "  <tbody>\n",
       "    <tr>\n",
       "      <th>0</th>\n",
       "      <td>2011-01-03</td>\n",
       "      <td>1327.7</td>\n",
       "      <td>1335.00</td>\n",
       "      <td>1301.20</td>\n",
       "      <td>1305.0</td>\n",
       "      <td>1308.45</td>\n",
       "      <td>1678140</td>\n",
       "    </tr>\n",
       "    <tr>\n",
       "      <th>1</th>\n",
       "      <td>2011-01-04</td>\n",
       "      <td>1313.9</td>\n",
       "      <td>1320.60</td>\n",
       "      <td>1285.05</td>\n",
       "      <td>1296.0</td>\n",
       "      <td>1298.40</td>\n",
       "      <td>2333384</td>\n",
       "    </tr>\n",
       "    <tr>\n",
       "      <th>2</th>\n",
       "      <td>2011-01-05</td>\n",
       "      <td>1300.0</td>\n",
       "      <td>1309.90</td>\n",
       "      <td>1276.00</td>\n",
       "      <td>1277.3</td>\n",
       "      <td>1282.80</td>\n",
       "      <td>1576151</td>\n",
       "    </tr>\n",
       "    <tr>\n",
       "      <th>3</th>\n",
       "      <td>2011-01-06</td>\n",
       "      <td>1289.2</td>\n",
       "      <td>1300.90</td>\n",
       "      <td>1248.35</td>\n",
       "      <td>1263.5</td>\n",
       "      <td>1261.00</td>\n",
       "      <td>2182701</td>\n",
       "    </tr>\n",
       "    <tr>\n",
       "      <th>4</th>\n",
       "      <td>2011-01-07</td>\n",
       "      <td>1260.0</td>\n",
       "      <td>1263.35</td>\n",
       "      <td>1160.00</td>\n",
       "      <td>1182.0</td>\n",
       "      <td>1190.20</td>\n",
       "      <td>4318326</td>\n",
       "    </tr>\n",
       "  </tbody>\n",
       "</table>\n",
       "</div>"
      ],
      "text/plain": [
       "         Date    Open     High      Low    Last    Close   Volume\n",
       "0  2011-01-03  1327.7  1335.00  1301.20  1305.0  1308.45  1678140\n",
       "1  2011-01-04  1313.9  1320.60  1285.05  1296.0  1298.40  2333384\n",
       "2  2011-01-05  1300.0  1309.90  1276.00  1277.3  1282.80  1576151\n",
       "3  2011-01-06  1289.2  1300.90  1248.35  1263.5  1261.00  2182701\n",
       "4  2011-01-07  1260.0  1263.35  1160.00  1182.0  1190.20  4318326"
      ]
     },
     "execution_count": 4,
     "metadata": {},
     "output_type": "execute_result"
    }
   ],
   "source": [
    "dataset.head()"
   ]
  },
  {
   "cell_type": "code",
   "execution_count": 5,
   "id": "e5dac30c",
   "metadata": {},
   "outputs": [
    {
     "data": {
      "text/html": [
       "<div>\n",
       "<style scoped>\n",
       "    .dataframe tbody tr th:only-of-type {\n",
       "        vertical-align: middle;\n",
       "    }\n",
       "\n",
       "    .dataframe tbody tr th {\n",
       "        vertical-align: top;\n",
       "    }\n",
       "\n",
       "    .dataframe thead th {\n",
       "        text-align: right;\n",
       "    }\n",
       "</style>\n",
       "<table border=\"1\" class=\"dataframe\">\n",
       "  <thead>\n",
       "    <tr style=\"text-align: right;\">\n",
       "      <th></th>\n",
       "      <th>Date</th>\n",
       "      <th>Open</th>\n",
       "      <th>High</th>\n",
       "      <th>Low</th>\n",
       "      <th>Last</th>\n",
       "      <th>Close</th>\n",
       "      <th>Volume</th>\n",
       "    </tr>\n",
       "  </thead>\n",
       "  <tbody>\n",
       "    <tr>\n",
       "      <th>242</th>\n",
       "      <td>2011-12-26</td>\n",
       "      <td>186.0</td>\n",
       "      <td>188.65</td>\n",
       "      <td>185.10</td>\n",
       "      <td>186.30</td>\n",
       "      <td>186.75</td>\n",
       "      <td>7097843</td>\n",
       "    </tr>\n",
       "    <tr>\n",
       "      <th>243</th>\n",
       "      <td>2011-12-27</td>\n",
       "      <td>186.0</td>\n",
       "      <td>186.40</td>\n",
       "      <td>180.85</td>\n",
       "      <td>182.35</td>\n",
       "      <td>182.10</td>\n",
       "      <td>6199700</td>\n",
       "    </tr>\n",
       "    <tr>\n",
       "      <th>244</th>\n",
       "      <td>2011-12-28</td>\n",
       "      <td>181.0</td>\n",
       "      <td>183.50</td>\n",
       "      <td>178.85</td>\n",
       "      <td>179.60</td>\n",
       "      <td>180.20</td>\n",
       "      <td>8777190</td>\n",
       "    </tr>\n",
       "    <tr>\n",
       "      <th>245</th>\n",
       "      <td>2011-12-29</td>\n",
       "      <td>178.4</td>\n",
       "      <td>182.50</td>\n",
       "      <td>178.10</td>\n",
       "      <td>178.95</td>\n",
       "      <td>179.15</td>\n",
       "      <td>9982150</td>\n",
       "    </tr>\n",
       "    <tr>\n",
       "      <th>246</th>\n",
       "      <td>2011-12-30</td>\n",
       "      <td>180.5</td>\n",
       "      <td>183.80</td>\n",
       "      <td>176.80</td>\n",
       "      <td>178.35</td>\n",
       "      <td>178.70</td>\n",
       "      <td>9288032</td>\n",
       "    </tr>\n",
       "  </tbody>\n",
       "</table>\n",
       "</div>"
      ],
      "text/plain": [
       "           Date   Open    High     Low    Last   Close   Volume\n",
       "242  2011-12-26  186.0  188.65  185.10  186.30  186.75  7097843\n",
       "243  2011-12-27  186.0  186.40  180.85  182.35  182.10  6199700\n",
       "244  2011-12-28  181.0  183.50  178.85  179.60  180.20  8777190\n",
       "245  2011-12-29  178.4  182.50  178.10  178.95  179.15  9982150\n",
       "246  2011-12-30  180.5  183.80  176.80  178.35  178.70  9288032"
      ]
     },
     "execution_count": 5,
     "metadata": {},
     "output_type": "execute_result"
    }
   ],
   "source": [
    "dataset.tail()"
   ]
  },
  {
   "cell_type": "code",
   "execution_count": 6,
   "id": "bb3f66ad",
   "metadata": {},
   "outputs": [
    {
     "data": {
      "text/plain": [
       "Date      False\n",
       "Open      False\n",
       "High      False\n",
       "Low       False\n",
       "Last      False\n",
       "Close     False\n",
       "Volume    False\n",
       "dtype: bool"
      ]
     },
     "execution_count": 6,
     "metadata": {},
     "output_type": "execute_result"
    }
   ],
   "source": [
    "dataset.isna().any()   #used to detect not applicable values"
   ]
  },
  {
   "cell_type": "code",
   "execution_count": 7,
   "id": "4c6a8838",
   "metadata": {},
   "outputs": [
    {
     "name": "stdout",
     "output_type": "stream",
     "text": [
      "<class 'pandas.core.frame.DataFrame'>\n",
      "RangeIndex: 247 entries, 0 to 246\n",
      "Data columns (total 7 columns):\n",
      " #   Column  Non-Null Count  Dtype  \n",
      "---  ------  --------------  -----  \n",
      " 0   Date    247 non-null    object \n",
      " 1   Open    247 non-null    float64\n",
      " 2   High    247 non-null    float64\n",
      " 3   Low     247 non-null    float64\n",
      " 4   Last    247 non-null    float64\n",
      " 5   Close   247 non-null    float64\n",
      " 6   Volume  247 non-null    int64  \n",
      "dtypes: float64(5), int64(1), object(1)\n",
      "memory usage: 13.6+ KB\n"
     ]
    }
   ],
   "source": [
    "dataset.info()"
   ]
  },
  {
   "cell_type": "code",
   "execution_count": 8,
   "id": "5c0a6d01",
   "metadata": {},
   "outputs": [
    {
     "data": {
      "text/plain": [
       "array([[<Axes: title={'center': 'Open'}>,\n",
       "        <Axes: title={'center': 'High'}>],\n",
       "       [<Axes: title={'center': 'Low'}>,\n",
       "        <Axes: title={'center': 'Last'}>],\n",
       "       [<Axes: title={'center': 'Close'}>,\n",
       "        <Axes: title={'center': 'Volume'}>]], dtype=object)"
      ]
     },
     "execution_count": 8,
     "metadata": {},
     "output_type": "execute_result"
    },
    {
     "data": {
      "image/png": "[encoded data removed]",
      "text/plain": [
       "<Figure size 640x480 with 6 Axes>"
      ]
     },
     "metadata": {},
     "output_type": "display_data"
    }
   ],
   "source": [
    "dataset.hist()"
   ]
  },
  {
   "cell_type": "code",
   "execution_count": 9,
   "id": "6e1037fc",
   "metadata": {},
   "outputs": [
    {
     "data": {
      "text/plain": [
       "Text(0.5, 1.0, 'Opening price of Tata Motors')"
      ]
     },
     "execution_count": 9,
     "metadata": {},
     "output_type": "execute_result"
    },
    {
     "data": {
      "image/png": "[encoded data removed]",
      "text/plain": [
       "<Figure size 640x480 with 1 Axes>"
      ]
     },
     "metadata": {},
     "output_type": "display_data"
    }
   ],
   "source": [
    "plt.plot(dataset['Open'])\n",
    "plt.title('Opening price of Tata Motors')"
   ]
  },
  {
   "cell_type": "code",
   "execution_count": 10,
   "id": "2c073eb0",
   "metadata": {},
   "outputs": [
    {
     "data": {
      "text/plain": [
       "Text(0.5, 1.0, 'Closing price of Tata Motors')"
      ]
     },
     "execution_count": 10,
     "metadata": {},
     "output_type": "execute_result"
    },
    {
     "data": {
      "image/png": "[encoded data removed]",
      "text/plain": [
       "<Figure size 640x480 with 1 Axes>"
      ]
     },
     "metadata": {},
     "output_type": "display_data"
    }
   ],
   "source": [
    "plt.plot(dataset['Close'])\n",
    "plt.title(\"Closing price of Tata Motors\")"
   ]
  },
  {
   "cell_type": "code",
   "execution_count": 11,
   "id": "24782e6a",
   "metadata": {},
   "outputs": [
    {
     "name": "stderr",
     "output_type": "stream",
     "text": [
      "C:\\Users\\hp\\AppData\\Local\\Temp\\ipykernel_31264\\3138029343.py:2: FutureWarning: Dropping of nuisance columns in rolling operations is deprecated; in a future version this will raise TypeError. Select only valid columns before calling the operation. Dropped columns were Index(['Date'], dtype='object')\n",
      "  dataset.rolling(7).mean().head(30)\n"
     ]
    },
    {
     "data": {
      "text/html": [
       "<div>\n",
       "<style scoped>\n",
       "    .dataframe tbody tr th:only-of-type {\n",
       "        vertical-align: middle;\n",
       "    }\n",
       "\n",
       "    .dataframe tbody tr th {\n",
       "        vertical-align: top;\n",
       "    }\n",
       "\n",
       "    .dataframe thead th {\n",
       "        text-align: right;\n",
       "    }\n",
       "</style>\n",
       "<table border=\"1\" class=\"dataframe\">\n",
       "  <thead>\n",
       "    <tr style=\"text-align: right;\">\n",
       "      <th></th>\n",
       "      <th>Open</th>\n",
       "      <th>High</th>\n",
       "      <th>Low</th>\n",
       "      <th>Last</th>\n",
       "      <th>Close</th>\n",
       "      <th>Volume</th>\n",
       "    </tr>\n",
       "  </thead>\n",
       "  <tbody>\n",
       "    <tr>\n",
       "      <th>0</th>\n",
       "      <td>NaN</td>\n",
       "      <td>NaN</td>\n",
       "      <td>NaN</td>\n",
       "      <td>NaN</td>\n",
       "      <td>NaN</td>\n",
       "      <td>NaN</td>\n",
       "    </tr>\n",
       "    <tr>\n",
       "      <th>1</th>\n",
       "      <td>NaN</td>\n",
       "      <td>NaN</td>\n",
       "      <td>NaN</td>\n",
       "      <td>NaN</td>\n",
       "      <td>NaN</td>\n",
       "      <td>NaN</td>\n",
       "    </tr>\n",
       "    <tr>\n",
       "      <th>2</th>\n",
       "      <td>NaN</td>\n",
       "      <td>NaN</td>\n",
       "      <td>NaN</td>\n",
       "      <td>NaN</td>\n",
       "      <td>NaN</td>\n",
       "      <td>NaN</td>\n",
       "    </tr>\n",
       "    <tr>\n",
       "      <th>3</th>\n",
       "      <td>NaN</td>\n",
       "      <td>NaN</td>\n",
       "      <td>NaN</td>\n",
       "      <td>NaN</td>\n",
       "      <td>NaN</td>\n",
       "      <td>NaN</td>\n",
       "    </tr>\n",
       "    <tr>\n",
       "      <th>4</th>\n",
       "      <td>NaN</td>\n",
       "      <td>NaN</td>\n",
       "      <td>NaN</td>\n",
       "      <td>NaN</td>\n",
       "      <td>NaN</td>\n",
       "      <td>NaN</td>\n",
       "    </tr>\n",
       "    <tr>\n",
       "      <th>5</th>\n",
       "      <td>NaN</td>\n",
       "      <td>NaN</td>\n",
       "      <td>NaN</td>\n",
       "      <td>NaN</td>\n",
       "      <td>NaN</td>\n",
       "      <td>NaN</td>\n",
       "    </tr>\n",
       "    <tr>\n",
       "      <th>6</th>\n",
       "      <td>1266.528571</td>\n",
       "      <td>1276.507143</td>\n",
       "      <td>1224.078571</td>\n",
       "      <td>1239.435714</td>\n",
       "      <td>1239.371429</td>\n",
       "      <td>3.013364e+06</td>\n",
       "    </tr>\n",
       "    <tr>\n",
       "      <th>7</th>\n",
       "      <td>1245.428571</td>\n",
       "      <td>1260.521429</td>\n",
       "      <td>1206.192857</td>\n",
       "      <td>1227.435714</td>\n",
       "      <td>1226.450000</td>\n",
       "      <td>3.457029e+06</td>\n",
       "    </tr>\n",
       "    <tr>\n",
       "      <th>8</th>\n",
       "      <td>1232.157143</td>\n",
       "      <td>1250.000000</td>\n",
       "      <td>1195.757143</td>\n",
       "      <td>1218.650000</td>\n",
       "      <td>1217.635714</td>\n",
       "      <td>3.942737e+06</td>\n",
       "    </tr>\n",
       "    <tr>\n",
       "      <th>9</th>\n",
       "      <td>1221.442857</td>\n",
       "      <td>1237.871429</td>\n",
       "      <td>1180.900000</td>\n",
       "      <td>1205.607143</td>\n",
       "      <td>1203.292857</td>\n",
       "      <td>4.208840e+06</td>\n",
       "    </tr>\n",
       "    <tr>\n",
       "      <th>10</th>\n",
       "      <td>1206.907143</td>\n",
       "      <td>1221.742857</td>\n",
       "      <td>1167.635714</td>\n",
       "      <td>1194.592857</td>\n",
       "      <td>1191.557143</td>\n",
       "      <td>4.240162e+06</td>\n",
       "    </tr>\n",
       "    <tr>\n",
       "      <th>11</th>\n",
       "      <td>1196.192857</td>\n",
       "      <td>1213.921429</td>\n",
       "      <td>1170.778571</td>\n",
       "      <td>1196.964286</td>\n",
       "      <td>1192.892857</td>\n",
       "      <td>4.027210e+06</td>\n",
       "    </tr>\n",
       "    <tr>\n",
       "      <th>12</th>\n",
       "      <td>1198.592857</td>\n",
       "      <td>1214.064286</td>\n",
       "      <td>1174.478571</td>\n",
       "      <td>1199.821429</td>\n",
       "      <td>1195.185714</td>\n",
       "      <td>3.693625e+06</td>\n",
       "    </tr>\n",
       "    <tr>\n",
       "      <th>13</th>\n",
       "      <td>1198.735714</td>\n",
       "      <td>1214.507143</td>\n",
       "      <td>1177.564286</td>\n",
       "      <td>1202.364286</td>\n",
       "      <td>1200.421429</td>\n",
       "      <td>3.421722e+06</td>\n",
       "    </tr>\n",
       "    <tr>\n",
       "      <th>14</th>\n",
       "      <td>1200.164286</td>\n",
       "      <td>1211.778571</td>\n",
       "      <td>1177.042857</td>\n",
       "      <td>1197.650000</td>\n",
       "      <td>1196.050000</td>\n",
       "      <td>3.043749e+06</td>\n",
       "    </tr>\n",
       "    <tr>\n",
       "      <th>15</th>\n",
       "      <td>1195.364286</td>\n",
       "      <td>1204.757143</td>\n",
       "      <td>1171.771429</td>\n",
       "      <td>1191.150000</td>\n",
       "      <td>1189.135714</td>\n",
       "      <td>2.406193e+06</td>\n",
       "    </tr>\n",
       "    <tr>\n",
       "      <th>16</th>\n",
       "      <td>1191.621429</td>\n",
       "      <td>1201.014286</td>\n",
       "      <td>1170.042857</td>\n",
       "      <td>1187.814286</td>\n",
       "      <td>1186.792857</td>\n",
       "      <td>2.274469e+06</td>\n",
       "    </tr>\n",
       "    <tr>\n",
       "      <th>17</th>\n",
       "      <td>1190.835714</td>\n",
       "      <td>1202.657143</td>\n",
       "      <td>1172.257143</td>\n",
       "      <td>1188.757143</td>\n",
       "      <td>1189.221429</td>\n",
       "      <td>2.526462e+06</td>\n",
       "    </tr>\n",
       "    <tr>\n",
       "      <th>18</th>\n",
       "      <td>1191.264286</td>\n",
       "      <td>1199.985714</td>\n",
       "      <td>1163.685714</td>\n",
       "      <td>1182.957143</td>\n",
       "      <td>1182.185714</td>\n",
       "      <td>2.566244e+06</td>\n",
       "    </tr>\n",
       "    <tr>\n",
       "      <th>19</th>\n",
       "      <td>1178.007143</td>\n",
       "      <td>1193.000000</td>\n",
       "      <td>1153.514286</td>\n",
       "      <td>1176.700000</td>\n",
       "      <td>1175.657143</td>\n",
       "      <td>2.580658e+06</td>\n",
       "    </tr>\n",
       "    <tr>\n",
       "      <th>20</th>\n",
       "      <td>1173.228571</td>\n",
       "      <td>1185.778571</td>\n",
       "      <td>1139.350000</td>\n",
       "      <td>1158.778571</td>\n",
       "      <td>1157.707143</td>\n",
       "      <td>2.976116e+06</td>\n",
       "    </tr>\n",
       "    <tr>\n",
       "      <th>21</th>\n",
       "      <td>1158.557143</td>\n",
       "      <td>1175.050000</td>\n",
       "      <td>1125.771429</td>\n",
       "      <td>1147.392857</td>\n",
       "      <td>1147.257143</td>\n",
       "      <td>3.305733e+06</td>\n",
       "    </tr>\n",
       "    <tr>\n",
       "      <th>22</th>\n",
       "      <td>1146.042857</td>\n",
       "      <td>1170.292857</td>\n",
       "      <td>1114.185714</td>\n",
       "      <td>1142.242857</td>\n",
       "      <td>1142.757143</td>\n",
       "      <td>3.524979e+06</td>\n",
       "    </tr>\n",
       "    <tr>\n",
       "      <th>23</th>\n",
       "      <td>1139.107143</td>\n",
       "      <td>1169.028571</td>\n",
       "      <td>1111.342857</td>\n",
       "      <td>1139.021429</td>\n",
       "      <td>1140.592857</td>\n",
       "      <td>3.869336e+06</td>\n",
       "    </tr>\n",
       "    <tr>\n",
       "      <th>24</th>\n",
       "      <td>1133.271429</td>\n",
       "      <td>1163.364286</td>\n",
       "      <td>1102.742857</td>\n",
       "      <td>1133.164286</td>\n",
       "      <td>1133.521429</td>\n",
       "      <td>3.773848e+06</td>\n",
       "    </tr>\n",
       "    <tr>\n",
       "      <th>25</th>\n",
       "      <td>1127.842857</td>\n",
       "      <td>1158.778571</td>\n",
       "      <td>1100.207143</td>\n",
       "      <td>1126.178571</td>\n",
       "      <td>1128.085714</td>\n",
       "      <td>3.757175e+06</td>\n",
       "    </tr>\n",
       "    <tr>\n",
       "      <th>26</th>\n",
       "      <td>1125.700000</td>\n",
       "      <td>1152.892857</td>\n",
       "      <td>1091.692857</td>\n",
       "      <td>1116.278571</td>\n",
       "      <td>1117.592857</td>\n",
       "      <td>4.093794e+06</td>\n",
       "    </tr>\n",
       "    <tr>\n",
       "      <th>27</th>\n",
       "      <td>1114.921429</td>\n",
       "      <td>1147.957143</td>\n",
       "      <td>1093.207143</td>\n",
       "      <td>1120.914286</td>\n",
       "      <td>1122.371429</td>\n",
       "      <td>3.799093e+06</td>\n",
       "    </tr>\n",
       "    <tr>\n",
       "      <th>28</th>\n",
       "      <td>1117.935714</td>\n",
       "      <td>1153.828571</td>\n",
       "      <td>1096.271429</td>\n",
       "      <td>1129.728571</td>\n",
       "      <td>1126.435714</td>\n",
       "      <td>3.684716e+06</td>\n",
       "    </tr>\n",
       "    <tr>\n",
       "      <th>29</th>\n",
       "      <td>1131.321429</td>\n",
       "      <td>1162.014286</td>\n",
       "      <td>1110.250000</td>\n",
       "      <td>1137.785714</td>\n",
       "      <td>1133.928571</td>\n",
       "      <td>3.916004e+06</td>\n",
       "    </tr>\n",
       "  </tbody>\n",
       "</table>\n",
       "</div>"
      ],
      "text/plain": [
       "           Open         High          Low         Last        Close  \\\n",
       "0           NaN          NaN          NaN          NaN          NaN   \n",
       "1           NaN          NaN          NaN          NaN          NaN   \n",
       "2           NaN          NaN          NaN          NaN          NaN   \n",
       "3           NaN          NaN          NaN          NaN          NaN   \n",
       "4           NaN          NaN          NaN          NaN          NaN   \n",
       "5           NaN          NaN          NaN          NaN          NaN   \n",
       "6   1266.528571  1276.507143  1224.078571  1239.435714  1239.371429   \n",
       "7   1245.428571  1260.521429  1206.192857  1227.435714  1226.450000   \n",
       "8   1232.157143  1250.000000  1195.757143  1218.650000  1217.635714   \n",
       "9   1221.442857  1237.871429  1180.900000  1205.607143  1203.292857   \n",
       "10  1206.907143  1221.742857  1167.635714  1194.592857  1191.557143   \n",
       "11  1196.192857  1213.921429  1170.778571  1196.964286  1192.892857   \n",
       "12  1198.592857  1214.064286  1174.478571  1199.821429  1195.185714   \n",
       "13  1198.735714  1214.507143  1177.564286  1202.364286  1200.421429   \n",
       "14  1200.164286  1211.778571  1177.042857  1197.650000  1196.050000   \n",
       "15  1195.364286  1204.757143  1171.771429  1191.150000  1189.135714   \n",
       "16  1191.621429  1201.014286  1170.042857  1187.814286  1186.792857   \n",
       "17  1190.835714  1202.657143  1172.257143  1188.757143  1189.221429   \n",
       "18  1191.264286  1199.985714  1163.685714  1182.957143  1182.185714   \n",
       "19  1178.007143  1193.000000  1153.514286  1176.700000  1175.657143   \n",
       "20  1173.228571  1185.778571  1139.350000  1158.778571  1157.707143   \n",
       "21  1158.557143  1175.050000  1125.771429  1147.392857  1147.257143   \n",
       "22  1146.042857  1170.292857  1114.185714  1142.242857  1142.757143   \n",
       "23  1139.107143  1169.028571  1111.342857  1139.021429  1140.592857   \n",
       "24  1133.271429  1163.364286  1102.742857  1133.164286  1133.521429   \n",
       "25  1127.842857  1158.778571  1100.207143  1126.178571  1128.085714   \n",
       "26  1125.700000  1152.892857  1091.692857  1116.278571  1117.592857   \n",
       "27  1114.921429  1147.957143  1093.207143  1120.914286  1122.371429   \n",
       "28  1117.935714  1153.828571  1096.271429  1129.728571  1126.435714   \n",
       "29  1131.321429  1162.014286  1110.250000  1137.785714  1133.928571   \n",
       "\n",
       "          Volume  \n",
       "0            NaN  \n",
       "1            NaN  \n",
       "2            NaN  \n",
       "3            NaN  \n",
       "4            NaN  \n",
       "5            NaN  \n",
       "6   3.013364e+06  \n",
       "7   3.457029e+06  \n",
       "8   3.942737e+06  \n",
       "9   4.208840e+06  \n",
       "10  4.240162e+06  \n",
       "11  4.027210e+06  \n",
       "12  3.693625e+06  \n",
       "13  3.421722e+06  \n",
       "14  3.043749e+06  \n",
       "15  2.406193e+06  \n",
       "16  2.274469e+06  \n",
       "17  2.526462e+06  \n",
       "18  2.566244e+06  \n",
       "19  2.580658e+06  \n",
       "20  2.976116e+06  \n",
       "21  3.305733e+06  \n",
       "22  3.524979e+06  \n",
       "23  3.869336e+06  \n",
       "24  3.773848e+06  \n",
       "25  3.757175e+06  \n",
       "26  4.093794e+06  \n",
       "27  3.799093e+06  \n",
       "28  3.684716e+06  \n",
       "29  3.916004e+06  "
      ]
     },
     "execution_count": 11,
     "metadata": {},
     "output_type": "execute_result"
    }
   ],
   "source": [
    "#7 day rolling mean of stock price\n",
    "dataset.rolling(7).mean().head(30)"
   ]
  },
  {
   "cell_type": "markdown",
   "id": "06f7b18f",
   "metadata": {},
   "source": [
    "### Comparing opening and closing prices"
   ]
  },
  {
   "cell_type": "code",
   "execution_count": 12,
   "id": "0541bdc7",
   "metadata": {},
   "outputs": [
    {
     "name": "stderr",
     "output_type": "stream",
     "text": [
      "C:\\Users\\hp\\AppData\\Local\\Temp\\ipykernel_31264\\538640725.py:2: FutureWarning: Dropping of nuisance columns in rolling operations is deprecated; in a future version this will raise TypeError. Select only valid columns before calling the operation. Dropped columns were Index(['Date'], dtype='object')\n",
      "  dataset.rolling(window=30).mean()['Close'].plot()\n"
     ]
    },
    {
     "data": {
      "text/plain": [
       "<Axes: >"
      ]
     },
     "execution_count": 12,
     "metadata": {},
     "output_type": "execute_result"
    },
    {
     "data": {
      "image/png": "[encoded data removed]",
      "text/plain": [
       "<Figure size 640x480 with 1 Axes>"
      ]
     },
     "metadata": {},
     "output_type": "display_data"
    }
   ],
   "source": [
    "plt.plot(dataset['Open'])\n",
    "dataset.rolling(window=30).mean()['Close'].plot()"
   ]
  },
  {
   "cell_type": "code",
   "execution_count": 13,
   "id": "f3cd9394",
   "metadata": {},
   "outputs": [
    {
     "data": {
      "text/plain": [
       "<Axes: >"
      ]
     },
     "execution_count": 13,
     "metadata": {},
     "output_type": "execute_result"
    },
    {
     "data": {
      "image/png": "[encoded data removed]",
      "text/plain": [
       "<Figure size 640x480 with 1 Axes>"
      ]
     },
     "metadata": {},
     "output_type": "display_data"
    }
   ],
   "source": [
    "dataset['Close'].expanding(min_periods=1).mean().plot()"
   ]
  },
  {
   "cell_type": "markdown",
   "id": "8347ab58",
   "metadata": {},
   "source": [
    "### Preprocessing dataset"
   ]
  },
  {
   "cell_type": "code",
   "execution_count": 14,
   "id": "19d57169",
   "metadata": {},
   "outputs": [],
   "source": [
    "training_set=dataset['Open']\n",
    "training_set=pd.DataFrame(training_set)\n"
   ]
  },
  {
   "cell_type": "code",
   "execution_count": 15,
   "id": "f999d902",
   "metadata": {},
   "outputs": [
    {
     "data": {
      "text/plain": [
       "Date      False\n",
       "Open      False\n",
       "High      False\n",
       "Low       False\n",
       "Last      False\n",
       "Close     False\n",
       "Volume    False\n",
       "dtype: bool"
      ]
     },
     "execution_count": 15,
     "metadata": {},
     "output_type": "execute_result"
    }
   ],
   "source": [
    "#Data cleaning\n",
    "#removing all that is not applicable \n",
    "dataset.isna().any()"
   ]
  },
  {
   "cell_type": "code",
   "execution_count": 16,
   "id": "696d96a4",
   "metadata": {},
   "outputs": [],
   "source": [
    "#feature scaling\n",
    "sc = MinMaxScaler(feature_range=(0,1))\n",
    "training_set_scaled=sc.fit_transform(training_set)"
   ]
  },
  {
   "cell_type": "markdown",
   "id": "81bcfb89",
   "metadata": {},
   "source": [
    "#### Creating data structure with 60 timestamps and 1 output"
   ]
  },
  {
   "cell_type": "code",
   "execution_count": 17,
   "id": "4d8566df",
   "metadata": {},
   "outputs": [],
   "source": [
    "x_train = []\n",
    "y_train = []\n",
    "for i in range(60,len(dataset)):\n",
    "    x_train.append(training_set_scaled[i-60:i,0])\n",
    "    y_train.append(training_set_scaled[i,0])\n",
    "x_train,y_train=np.array(x_train),np.array(y_train)"
   ]
  },
  {
   "cell_type": "code",
   "execution_count": 18,
   "id": "591d78a0",
   "metadata": {},
   "outputs": [],
   "source": [
    "#reshaping\n",
    "x_train=np.reshape(x_train,(x_train.shape[0],x_train.shape[1],1))"
   ]
  },
  {
   "cell_type": "markdown",
   "id": "4486f244",
   "metadata": {},
   "source": [
    "### Building LSTM\n"
   ]
  },
  {
   "cell_type": "markdown",
   "id": "aa2ce053",
   "metadata": {},
   "source": [
    "LSTM model is composed of sequential input layer, 3 lstm layers and a dense layer with activation followed by a dense op layer with linear activation function"
   ]
  },
  {
   "cell_type": "code",
   "execution_count": 19,
   "id": "4616bcdd",
   "metadata": {},
   "outputs": [],
   "source": [
    "model = Sequential()"
   ]
  },
  {
   "cell_type": "markdown",
   "id": "5281ef87",
   "metadata": {},
   "source": [
    "Adding LSTM layers and Dropout(a regularisation technique to reduce overfitting in NN)"
   ]
  },
  {
   "cell_type": "code",
   "execution_count": 20,
   "id": "ba2ff6cb",
   "metadata": {},
   "outputs": [],
   "source": [
    "#Input Layer\n",
    "model.add(LSTM(units=50,return_sequences = True,input_shape=(x_train.shape[1],1)))\n",
    "model.add(Dropout(0.2))"
   ]
  },
  {
   "cell_type": "code",
   "execution_count": 21,
   "id": "68f9b257",
   "metadata": {},
   "outputs": [],
   "source": [
    "#LSTM Layer 1\n",
    "model.add(LSTM(units=50,return_sequences = True))\n",
    "model.add(Dropout(0.2))"
   ]
  },
  {
   "cell_type": "code",
   "execution_count": 22,
   "id": "864d7d75",
   "metadata": {},
   "outputs": [],
   "source": [
    "#LSTM Layer 2\n",
    "model.add(LSTM(units=50,return_sequences = True))\n",
    "model.add(Dropout(0.2))"
   ]
  },
  {
   "cell_type": "code",
   "execution_count": 23,
   "id": "ee2f9872",
   "metadata": {},
   "outputs": [],
   "source": [
    "#LSTM Layer 3\n",
    "model.add(LSTM(units=50))\n",
    "model.add(Dropout(0.2))"
   ]
  },
  {
   "cell_type": "code",
   "execution_count": 24,
   "id": "7d47c964",
   "metadata": {},
   "outputs": [],
   "source": [
    "#Output Layer\n",
    "model.add(Dense(units=1))"
   ]
  },
  {
   "cell_type": "code",
   "execution_count": 25,
   "id": "b82a7154",
   "metadata": {},
   "outputs": [
    {
     "name": "stdout",
     "output_type": "stream",
     "text": [
      "Epoch 1/100\n",
      "6/6 [==============================] - 18s 140ms/step - loss: 0.1692\n",
      "Epoch 2/100\n",
      "6/6 [==============================] - 1s 229ms/step - loss: 0.0719\n",
      "Epoch 3/100\n",
      "6/6 [==============================] - 1s 158ms/step - loss: 0.0485\n",
      "Epoch 4/100\n",
      "6/6 [==============================] - 1s 168ms/step - loss: 0.0313\n",
      "Epoch 5/100\n",
      "6/6 [==============================] - 1s 198ms/step - loss: 0.0302\n",
      "Epoch 6/100\n",
      "6/6 [==============================] - 1s 173ms/step - loss: 0.0200\n",
      "Epoch 7/100\n",
      "6/6 [==============================] - 1s 184ms/step - loss: 0.0188\n",
      "Epoch 8/100\n",
      "6/6 [==============================] - 1s 181ms/step - loss: 0.0190\n",
      "Epoch 9/100\n",
      "6/6 [==============================] - 1s 168ms/step - loss: 0.0182\n",
      "Epoch 10/100\n",
      "6/6 [==============================] - 1s 177ms/step - loss: 0.0148\n",
      "Epoch 11/100\n",
      "6/6 [==============================] - 1s 159ms/step - loss: 0.0158\n",
      "Epoch 12/100\n",
      "6/6 [==============================] - 1s 176ms/step - loss: 0.0141\n",
      "Epoch 13/100\n",
      "6/6 [==============================] - 1s 148ms/step - loss: 0.0155\n",
      "Epoch 14/100\n",
      "6/6 [==============================] - 1s 161ms/step - loss: 0.0170\n",
      "Epoch 15/100\n",
      "6/6 [==============================] - 1s 248ms/step - loss: 0.0141\n",
      "Epoch 16/100\n",
      "6/6 [==============================] - 1s 209ms/step - loss: 0.0135\n",
      "Epoch 17/100\n",
      "6/6 [==============================] - 1s 150ms/step - loss: 0.0134\n",
      "Epoch 18/100\n",
      "6/6 [==============================] - 1s 159ms/step - loss: 0.0144\n",
      "Epoch 19/100\n",
      "6/6 [==============================] - 1s 211ms/step - loss: 0.0159\n",
      "Epoch 20/100\n",
      "6/6 [==============================] - 3s 446ms/step - loss: 0.0142\n",
      "Epoch 21/100\n",
      "6/6 [==============================] - 2s 249ms/step - loss: 0.0134\n",
      "Epoch 22/100\n",
      "6/6 [==============================] - 2s 294ms/step - loss: 0.0129\n",
      "Epoch 23/100\n",
      "6/6 [==============================] - 1s 170ms/step - loss: 0.0120\n",
      "Epoch 24/100\n",
      "6/6 [==============================] - 1s 149ms/step - loss: 0.0118\n",
      "Epoch 25/100\n",
      "6/6 [==============================] - 1s 176ms/step - loss: 0.0124\n",
      "Epoch 26/100\n",
      "6/6 [==============================] - 2s 357ms/step - loss: 0.0100\n",
      "Epoch 27/100\n",
      "6/6 [==============================] - 1s 218ms/step - loss: 0.0132\n",
      "Epoch 28/100\n",
      "6/6 [==============================] - 2s 292ms/step - loss: 0.0119\n",
      "Epoch 29/100\n",
      "6/6 [==============================] - 1s 173ms/step - loss: 0.0136\n",
      "Epoch 30/100\n",
      "6/6 [==============================] - 1s 144ms/step - loss: 0.0150\n",
      "Epoch 31/100\n",
      "6/6 [==============================] - 1s 131ms/step - loss: 0.0194\n",
      "Epoch 32/100\n",
      "6/6 [==============================] - 1s 132ms/step - loss: 0.0168\n",
      "Epoch 33/100\n",
      "6/6 [==============================] - 1s 139ms/step - loss: 0.0155\n",
      "Epoch 34/100\n",
      "6/6 [==============================] - 1s 137ms/step - loss: 0.0114\n",
      "Epoch 35/100\n",
      "6/6 [==============================] - 1s 134ms/step - loss: 0.0116\n",
      "Epoch 36/100\n",
      "6/6 [==============================] - 1s 137ms/step - loss: 0.0120\n",
      "Epoch 37/100\n",
      "6/6 [==============================] - 1s 130ms/step - loss: 0.0123\n",
      "Epoch 38/100\n",
      "6/6 [==============================] - 1s 135ms/step - loss: 0.0106\n",
      "Epoch 39/100\n",
      "6/6 [==============================] - 1s 152ms/step - loss: 0.0096\n",
      "Epoch 40/100\n",
      "6/6 [==============================] - 1s 163ms/step - loss: 0.0119\n",
      "Epoch 41/100\n",
      "6/6 [==============================] - 2s 306ms/step - loss: 0.0131\n",
      "Epoch 42/100\n",
      "6/6 [==============================] - 1s 189ms/step - loss: 0.0112\n",
      "Epoch 43/100\n",
      "6/6 [==============================] - 1s 192ms/step - loss: 0.0111\n",
      "Epoch 44/100\n",
      "6/6 [==============================] - 1s 165ms/step - loss: 0.0138\n",
      "Epoch 45/100\n",
      "6/6 [==============================] - 1s 199ms/step - loss: 0.0111\n",
      "Epoch 46/100\n",
      "6/6 [==============================] - 1s 206ms/step - loss: 0.0107\n",
      "Epoch 47/100\n",
      "6/6 [==============================] - 1s 201ms/step - loss: 0.0151\n",
      "Epoch 48/100\n",
      "6/6 [==============================] - 1s 158ms/step - loss: 0.0135\n",
      "Epoch 49/100\n",
      "6/6 [==============================] - 1s 210ms/step - loss: 0.0114\n",
      "Epoch 50/100\n",
      "6/6 [==============================] - 2s 258ms/step - loss: 0.0113\n",
      "Epoch 51/100\n",
      "6/6 [==============================] - 1s 233ms/step - loss: 0.0096\n",
      "Epoch 52/100\n",
      "6/6 [==============================] - 2s 252ms/step - loss: 0.0107\n",
      "Epoch 53/100\n",
      "6/6 [==============================] - 1s 204ms/step - loss: 0.0112\n",
      "Epoch 54/100\n",
      "6/6 [==============================] - 2s 244ms/step - loss: 0.0104\n",
      "Epoch 55/100\n",
      "6/6 [==============================] - 1s 246ms/step - loss: 0.0107\n",
      "Epoch 56/100\n",
      "6/6 [==============================] - 1s 240ms/step - loss: 0.0103\n",
      "Epoch 57/100\n",
      "6/6 [==============================] - 1s 192ms/step - loss: 0.0110\n",
      "Epoch 58/100\n",
      "6/6 [==============================] - 1s 165ms/step - loss: 0.0109\n",
      "Epoch 59/100\n",
      "6/6 [==============================] - 1s 175ms/step - loss: 0.0114\n",
      "Epoch 60/100\n",
      "6/6 [==============================] - 1s 166ms/step - loss: 0.0095\n",
      "Epoch 61/100\n",
      "6/6 [==============================] - 1s 133ms/step - loss: 0.0100\n",
      "Epoch 62/100\n",
      "6/6 [==============================] - 1s 159ms/step - loss: 0.0107\n",
      "Epoch 63/100\n",
      "6/6 [==============================] - 1s 172ms/step - loss: 0.0094\n",
      "Epoch 64/100\n",
      "6/6 [==============================] - 1s 222ms/step - loss: 0.0107\n",
      "Epoch 65/100\n",
      "6/6 [==============================] - 1s 198ms/step - loss: 0.0124\n",
      "Epoch 66/100\n",
      "6/6 [==============================] - 1s 213ms/step - loss: 0.0136\n",
      "Epoch 67/100\n",
      "6/6 [==============================] - 1s 150ms/step - loss: 0.0096\n",
      "Epoch 68/100\n",
      "6/6 [==============================] - 1s 138ms/step - loss: 0.0134\n",
      "Epoch 69/100\n",
      "6/6 [==============================] - 1s 135ms/step - loss: 0.0103\n",
      "Epoch 70/100\n",
      "6/6 [==============================] - 1s 150ms/step - loss: 0.0103\n",
      "Epoch 71/100\n",
      "6/6 [==============================] - 1s 146ms/step - loss: 0.0096\n",
      "Epoch 72/100\n",
      "6/6 [==============================] - 1s 155ms/step - loss: 0.0090\n",
      "Epoch 73/100\n",
      "6/6 [==============================] - 1s 127ms/step - loss: 0.0098\n",
      "Epoch 74/100\n",
      "6/6 [==============================] - 1s 148ms/step - loss: 0.0101\n",
      "Epoch 75/100\n",
      "6/6 [==============================] - 1s 143ms/step - loss: 0.0108\n",
      "Epoch 76/100\n",
      "6/6 [==============================] - 1s 163ms/step - loss: 0.0118\n",
      "Epoch 77/100\n",
      "6/6 [==============================] - 1s 143ms/step - loss: 0.0091\n",
      "Epoch 78/100\n",
      "6/6 [==============================] - 1s 160ms/step - loss: 0.0084\n",
      "Epoch 79/100\n",
      "6/6 [==============================] - 1s 138ms/step - loss: 0.0100\n",
      "Epoch 80/100\n",
      "6/6 [==============================] - 1s 149ms/step - loss: 0.0094\n",
      "Epoch 81/100\n",
      "6/6 [==============================] - 1s 141ms/step - loss: 0.0089\n",
      "Epoch 82/100\n",
      "6/6 [==============================] - 1s 127ms/step - loss: 0.0083\n",
      "Epoch 83/100\n",
      "6/6 [==============================] - 1s 143ms/step - loss: 0.0090\n",
      "Epoch 84/100\n",
      "6/6 [==============================] - 1s 134ms/step - loss: 0.0102\n",
      "Epoch 85/100\n",
      "6/6 [==============================] - 1s 152ms/step - loss: 0.0088\n",
      "Epoch 86/100\n",
      "6/6 [==============================] - 1s 133ms/step - loss: 0.0090\n",
      "Epoch 87/100\n",
      "6/6 [==============================] - 1s 141ms/step - loss: 0.0100\n",
      "Epoch 88/100\n",
      "6/6 [==============================] - 1s 150ms/step - loss: 0.0089\n",
      "Epoch 89/100\n",
      "6/6 [==============================] - 1s 172ms/step - loss: 0.0097\n",
      "Epoch 90/100\n",
      "6/6 [==============================] - 1s 139ms/step - loss: 0.0093\n",
      "Epoch 91/100\n",
      "6/6 [==============================] - 1s 143ms/step - loss: 0.0099\n",
      "Epoch 92/100\n",
      "6/6 [==============================] - 1s 161ms/step - loss: 0.0085\n",
      "Epoch 93/100\n",
      "6/6 [==============================] - 1s 127ms/step - loss: 0.0091\n",
      "Epoch 94/100\n",
      "6/6 [==============================] - 1s 132ms/step - loss: 0.0097\n",
      "Epoch 95/100\n",
      "6/6 [==============================] - 1s 127ms/step - loss: 0.0102\n",
      "Epoch 96/100\n",
      "6/6 [==============================] - 1s 136ms/step - loss: 0.0100\n",
      "Epoch 97/100\n",
      "6/6 [==============================] - 1s 142ms/step - loss: 0.0088\n",
      "Epoch 98/100\n",
      "6/6 [==============================] - 1s 133ms/step - loss: 0.0092\n",
      "Epoch 99/100\n",
      "6/6 [==============================] - 1s 125ms/step - loss: 0.0104\n",
      "Epoch 100/100\n",
      "6/6 [==============================] - 1s 137ms/step - loss: 0.0092\n"
     ]
    },
    {
     "data": {
      "text/plain": [
       "<keras.callbacks.History at 0x188b08d5b70>"
      ]
     },
     "execution_count": 25,
     "metadata": {},
     "output_type": "execute_result"
    }
   ],
   "source": [
    "#compiling RNN\n",
    "model.compile(loss='mean_squared_error', optimizer='adam')    #adam (Adaptive movement estimation)\n",
    "\n",
    "#Fitting RNN into training_set\n",
    "model.fit(x_train,y_train,epochs=100,batch_size=32)\n"
   ]
  },
  {
   "cell_type": "markdown",
   "id": "36b727a9",
   "metadata": {},
   "source": [
    "### Making prediction and visualising result"
   ]
  },
  {
   "cell_type": "markdown",
   "id": "418e3d5c",
   "metadata": {},
   "source": [
    "#### Getting real stock price"
   ]
  },
  {
   "cell_type": "code",
   "execution_count": 26,
   "id": "0edc984f",
   "metadata": {},
   "outputs": [],
   "source": [
    "test_dataset=pd.read_csv(r'C:\\Users\\hp\\Downloads\\TATAMOTORS_2011.csv',index_col='Date',parse_dates=True)"
   ]
  },
  {
   "cell_type": "code",
   "execution_count": 27,
   "id": "6d1305d5",
   "metadata": {},
   "outputs": [],
   "source": [
    "orig_price=test_dataset.iloc[:,1:2].values"
   ]
  },
  {
   "cell_type": "code",
   "execution_count": 28,
   "id": "87c5fd0b",
   "metadata": {},
   "outputs": [
    {
     "data": {
      "text/html": [
       "<div>\n",
       "<style scoped>\n",
       "    .dataframe tbody tr th:only-of-type {\n",
       "        vertical-align: middle;\n",
       "    }\n",
       "\n",
       "    .dataframe tbody tr th {\n",
       "        vertical-align: top;\n",
       "    }\n",
       "\n",
       "    .dataframe thead th {\n",
       "        text-align: right;\n",
       "    }\n",
       "</style>\n",
       "<table border=\"1\" class=\"dataframe\">\n",
       "  <thead>\n",
       "    <tr style=\"text-align: right;\">\n",
       "      <th></th>\n",
       "      <th>Open</th>\n",
       "      <th>High</th>\n",
       "      <th>Low</th>\n",
       "      <th>Last</th>\n",
       "      <th>Close</th>\n",
       "      <th>Volume</th>\n",
       "    </tr>\n",
       "    <tr>\n",
       "      <th>Date</th>\n",
       "      <th></th>\n",
       "      <th></th>\n",
       "      <th></th>\n",
       "      <th></th>\n",
       "      <th></th>\n",
       "      <th></th>\n",
       "    </tr>\n",
       "  </thead>\n",
       "  <tbody>\n",
       "    <tr>\n",
       "      <th>2011-01-03</th>\n",
       "      <td>1327.7</td>\n",
       "      <td>1335.00</td>\n",
       "      <td>1301.20</td>\n",
       "      <td>1305.0</td>\n",
       "      <td>1308.45</td>\n",
       "      <td>1678140</td>\n",
       "    </tr>\n",
       "    <tr>\n",
       "      <th>2011-01-04</th>\n",
       "      <td>1313.9</td>\n",
       "      <td>1320.60</td>\n",
       "      <td>1285.05</td>\n",
       "      <td>1296.0</td>\n",
       "      <td>1298.40</td>\n",
       "      <td>2333384</td>\n",
       "    </tr>\n",
       "    <tr>\n",
       "      <th>2011-01-05</th>\n",
       "      <td>1300.0</td>\n",
       "      <td>1309.90</td>\n",
       "      <td>1276.00</td>\n",
       "      <td>1277.3</td>\n",
       "      <td>1282.80</td>\n",
       "      <td>1576151</td>\n",
       "    </tr>\n",
       "    <tr>\n",
       "      <th>2011-01-06</th>\n",
       "      <td>1289.2</td>\n",
       "      <td>1300.90</td>\n",
       "      <td>1248.35</td>\n",
       "      <td>1263.5</td>\n",
       "      <td>1261.00</td>\n",
       "      <td>2182701</td>\n",
       "    </tr>\n",
       "    <tr>\n",
       "      <th>2011-01-07</th>\n",
       "      <td>1260.0</td>\n",
       "      <td>1263.35</td>\n",
       "      <td>1160.00</td>\n",
       "      <td>1182.0</td>\n",
       "      <td>1190.20</td>\n",
       "      <td>4318326</td>\n",
       "    </tr>\n",
       "  </tbody>\n",
       "</table>\n",
       "</div>"
      ],
      "text/plain": [
       "              Open     High      Low    Last    Close   Volume\n",
       "Date                                                          \n",
       "2011-01-03  1327.7  1335.00  1301.20  1305.0  1308.45  1678140\n",
       "2011-01-04  1313.9  1320.60  1285.05  1296.0  1298.40  2333384\n",
       "2011-01-05  1300.0  1309.90  1276.00  1277.3  1282.80  1576151\n",
       "2011-01-06  1289.2  1300.90  1248.35  1263.5  1261.00  2182701\n",
       "2011-01-07  1260.0  1263.35  1160.00  1182.0  1190.20  4318326"
      ]
     },
     "execution_count": 28,
     "metadata": {},
     "output_type": "execute_result"
    }
   ],
   "source": [
    "test_dataset.head()"
   ]
  },
  {
   "cell_type": "code",
   "execution_count": 29,
   "id": "56b52d66",
   "metadata": {},
   "outputs": [
    {
     "name": "stdout",
     "output_type": "stream",
     "text": [
      "<class 'pandas.core.frame.DataFrame'>\n",
      "DatetimeIndex: 247 entries, 2011-01-03 to 2011-12-30\n",
      "Data columns (total 6 columns):\n",
      " #   Column  Non-Null Count  Dtype  \n",
      "---  ------  --------------  -----  \n",
      " 0   Open    247 non-null    float64\n",
      " 1   High    247 non-null    float64\n",
      " 2   Low     247 non-null    float64\n",
      " 3   Last    247 non-null    float64\n",
      " 4   Close   247 non-null    float64\n",
      " 5   Volume  247 non-null    int64  \n",
      "dtypes: float64(5), int64(1)\n",
      "memory usage: 13.5 KB\n"
     ]
    }
   ],
   "source": [
    "test_dataset.info()"
   ]
  },
  {
   "cell_type": "code",
   "execution_count": 30,
   "id": "fbde85d9",
   "metadata": {},
   "outputs": [],
   "source": [
    "test_set=test_dataset['Open']\n",
    "test_set=pd.DataFrame(test_set)"
   ]
  },
  {
   "cell_type": "code",
   "execution_count": 31,
   "id": "c1c2f44c",
   "metadata": {},
   "outputs": [
    {
     "name": "stdout",
     "output_type": "stream",
     "text": [
      "<class 'pandas.core.frame.DataFrame'>\n",
      "DatetimeIndex: 247 entries, 2011-01-03 to 2011-12-30\n",
      "Data columns (total 1 columns):\n",
      " #   Column  Non-Null Count  Dtype  \n",
      "---  ------  --------------  -----  \n",
      " 0   Open    247 non-null    float64\n",
      "dtypes: float64(1)\n",
      "memory usage: 3.9 KB\n"
     ]
    }
   ],
   "source": [
    "test_set.info()"
   ]
  },
  {
   "cell_type": "code",
   "execution_count": 32,
   "id": "9e3f3219",
   "metadata": {},
   "outputs": [
    {
     "data": {
      "text/plain": [
       "array([[<Axes: title={'center': 'Open'}>]], dtype=object)"
      ]
     },
     "execution_count": 32,
     "metadata": {},
     "output_type": "execute_result"
    },
    {
     "data": {
      "image/png": "[encoded data removed]",
      "text/plain": [
       "<Figure size 640x480 with 1 Axes>"
      ]
     },
     "metadata": {},
     "output_type": "display_data"
    }
   ],
   "source": [
    "test_set.hist()"
   ]
  },
  {
   "cell_type": "markdown",
   "id": "e4e20e99",
   "metadata": {},
   "source": [
    "#### Getting the predicted Stock price"
   ]
  },
  {
   "cell_type": "code",
   "execution_count": 33,
   "id": "2bbded5b",
   "metadata": {},
   "outputs": [
    {
     "name": "stderr",
     "output_type": "stream",
     "text": [
      "C:\\ProgramData\\anaconda3\\lib\\site-packages\\sklearn\\base.py:420: UserWarning: X does not have valid feature names, but MinMaxScaler was fitted with feature names\n",
      "  warnings.warn(\n"
     ]
    }
   ],
   "source": [
    "total_dataset = pd.concat((dataset['Open'],test_dataset['Open']), axis = 0)\n",
    "inputs=total_dataset[len(total_dataset)-len(test_dataset)-60:].values\n",
    "inputs=inputs.reshape(-1,1)\n",
    "inputs=sc.transform(inputs)"
   ]
  },
  {
   "cell_type": "code",
   "execution_count": 34,
   "id": "cf92ccf7",
   "metadata": {},
   "outputs": [],
   "source": [
    "x_test=[]\n",
    "for i in range(60,300):\n",
    "    x_test.append(inputs[i-60:i,0])\n",
    "x_test=np.array(x_test)\n",
    "x_test=np.reshape(x_test,(x_test.shape[0],x_test.shape[1],1))"
   ]
  },
  {
   "cell_type": "code",
   "execution_count": 35,
   "id": "f76676f9",
   "metadata": {},
   "outputs": [
    {
     "name": "stdout",
     "output_type": "stream",
     "text": [
      "8/8 [==============================] - 6s 45ms/step\n"
     ]
    }
   ],
   "source": [
    "pred_price=model.predict(x_test)\n",
    "pred_price=sc.inverse_transform(pred_price)"
   ]
  },
  {
   "cell_type": "code",
   "execution_count": 36,
   "id": "088afce8",
   "metadata": {},
   "outputs": [
    {
     "name": "stdout",
     "output_type": "stream",
     "text": [
      "<class 'pandas.core.frame.DataFrame'>\n",
      "RangeIndex: 240 entries, 0 to 239\n",
      "Data columns (total 1 columns):\n",
      " #   Column  Non-Null Count  Dtype  \n",
      "---  ------  --------------  -----  \n",
      " 0   0       240 non-null    float32\n",
      "dtypes: float32(1)\n",
      "memory usage: 1.1 KB\n"
     ]
    }
   ],
   "source": [
    "pred_price=pd.DataFrame(pred_price)\n",
    "pred_price.info()"
   ]
  },
  {
   "cell_type": "markdown",
   "id": "c40f7611",
   "metadata": {},
   "source": [
    "#### Visualising results"
   ]
  },
  {
   "cell_type": "code",
   "execution_count": 37,
   "id": "69aaade0",
   "metadata": {},
   "outputs": [
    {
     "data": {
      "image/png": "[encoded data removed]",
      "text/plain": [
       "<Figure size 640x480 with 1 Axes>"
      ]
     },
     "metadata": {},
     "output_type": "display_data"
    }
   ],
   "source": [
    "plt.style.use('dark_background')\n",
    "plt.plot(orig_price,color='cyan',label='Real Price')\n",
    "plt.plot(pred_price,color='magenta',label=\"Predicted Price\")\n",
    "plt.title(\"TataMotors Stock Prediction\")\n",
    "plt.xlabel('Time')\n",
    "plt.ylabel('Price')\n",
    "plt.legend()\n",
    "plt.show()"
   ]
  },
  {
   "cell_type": "markdown",
   "id": "c30da0c5",
   "metadata": {},
   "source": [
    "### Conclusion:"
   ]
  },
  {
   "cell_type": "markdown",
   "id": "b5445c85",
   "metadata": {},
   "source": [
    "\n",
    "##### Year 2017 proved to be a challenging year for Tata Motors.\n",
    "##### Its Stock prices dipped down from its year high 1335 to 184 at year end.\n",
    "##### Reasons for this could be certainly many as TataMotors, then was highly dependent on Chineses market and uncertainity in Chinese market affected TataMotors highly.\n",
    "##### Year 2016-2017 was the rise of its Downfall which we can clearly see in the data\n",
    "\n",
    "##### Moreover our prediction regarding it's Opening stock price was quite accurate."
   ]
  }
 ],
 "metadata": {
  "kernelspec": {
   "display_name": "Python 3 (ipykernel)",
   "language": "python",
   "name": "python3"
  },
  "language_info": {
   "codemirror_mode": {
    "name": "ipython",
    "version": 3
   },
   "file_extension": ".py",
   "mimetype": "text/x-python",
   "name": "python",
   "nbconvert_exporter": "python",
   "pygments_lexer": "ipython3",
   "version": "3.10.9"
  }
 },
 "nbformat": 4,
 "nbformat_minor": 5
}
